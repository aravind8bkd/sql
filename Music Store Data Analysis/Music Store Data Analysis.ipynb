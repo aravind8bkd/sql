{
 "cells": [
  {
   "cell_type": "code",
   "execution_count": 1,
   "id": "808f51df",
   "metadata": {
    "execution": {
     "iopub.execute_input": "2024-08-02T05:54:13.367091Z",
     "iopub.status.busy": "2024-08-02T05:54:13.366714Z",
     "iopub.status.idle": "2024-08-02T05:54:14.182898Z",
     "shell.execute_reply": "2024-08-02T05:54:14.181772Z"
    },
    "papermill": {
     "duration": 0.823915,
     "end_time": "2024-08-02T05:54:14.185411",
     "exception": false,
     "start_time": "2024-08-02T05:54:13.361496",
     "status": "completed"
    },
    "tags": []
   },
   "outputs": [],
   "source": [
    "import pandas as pd\n",
    "import sqlite3\n",
    "import os\n"
   ]
  },
  {
   "cell_type": "code",
   "execution_count": 2,
   "id": "f43719f9",
   "metadata": {
    "execution": {
     "iopub.execute_input": "2024-08-02T05:54:14.194296Z",
     "iopub.status.busy": "2024-08-02T05:54:14.193790Z",
     "iopub.status.idle": "2024-08-02T05:54:14.199077Z",
     "shell.execute_reply": "2024-08-02T05:54:14.198071Z"
    },
    "papermill": {
     "duration": 0.012105,
     "end_time": "2024-08-02T05:54:14.201253",
     "exception": false,
     "start_time": "2024-08-02T05:54:14.189148",
     "status": "completed"
    },
    "tags": []
   },
   "outputs": [],
   "source": [
    "# Define the path for your SQLite database file\n",
    "db_path = '/kaggle/working/music_database.db'\n",
    "\n",
    "# Connect to the SQLite database (it will create the file if it doesn't exist)\n",
    "conn = sqlite3.connect(db_path)\n"
   ]
  },
  {
   "cell_type": "code",
   "execution_count": 3,
   "id": "cb520d05",
   "metadata": {
    "execution": {
     "iopub.execute_input": "2024-08-02T05:54:14.209662Z",
     "iopub.status.busy": "2024-08-02T05:54:14.209294Z",
     "iopub.status.idle": "2024-08-02T05:54:14.571072Z",
     "shell.execute_reply": "2024-08-02T05:54:14.570032Z"
    },
    "papermill": {
     "duration": 0.368764,
     "end_time": "2024-08-02T05:54:14.573479",
     "exception": false,
     "start_time": "2024-08-02T05:54:14.204715",
     "status": "completed"
    },
    "tags": []
   },
   "outputs": [],
   "source": [
    "# Path to the folder containing your CSV files\n",
    "csv_folder_path = '/kaggle/input/music-store-data-csvs/'\n",
    "\n",
    "# Loop through all CSV files in the folder\n",
    "for csv_file in os.listdir(csv_folder_path):\n",
    "    if csv_file.endswith('.csv'):\n",
    "        # Read the CSV file into a DataFrame\n",
    "        df = pd.read_csv(os.path.join(csv_folder_path, csv_file))\n",
    "        \n",
    "        # Use the filename (without extension) as the table name\n",
    "        table_name = os.path.splitext(csv_file)[0]\n",
    "        \n",
    "        # Write the DataFrame to the SQLite database\n",
    "        df.to_sql(table_name, conn, if_exists='replace', index=False)\n",
    "\n",
    "# Close the connection to the database\n",
    "conn.close()\n"
   ]
  },
  {
   "cell_type": "code",
   "execution_count": 4,
   "id": "f69722b1",
   "metadata": {
    "execution": {
     "iopub.execute_input": "2024-08-02T05:54:14.581713Z",
     "iopub.status.busy": "2024-08-02T05:54:14.581339Z",
     "iopub.status.idle": "2024-08-02T05:54:14.588794Z",
     "shell.execute_reply": "2024-08-02T05:54:14.587622Z"
    },
    "papermill": {
     "duration": 0.014122,
     "end_time": "2024-08-02T05:54:14.591005",
     "exception": false,
     "start_time": "2024-08-02T05:54:14.576883",
     "status": "completed"
    },
    "tags": []
   },
   "outputs": [
    {
     "name": "stdout",
     "output_type": "stream",
     "text": [
      "Tables in SQLite database:\n",
      "genre\n",
      "invoice\n",
      "track\n",
      "artist\n",
      "playlist_track\n",
      "album2\n",
      "invoice_line\n",
      "customer\n",
      "playlist\n",
      "employee\n",
      "album\n",
      "media_type\n"
     ]
    }
   ],
   "source": [
    "# Reconnect to the database\n",
    "conn = sqlite3.connect(db_path)\n",
    "\n",
    "# Query to get the list of tables\n",
    "tables = conn.execute(\"SELECT name FROM sqlite_master WHERE type='table';\").fetchall()\n",
    "\n",
    "# Print the list of tables\n",
    "print(\"Tables in SQLite database:\")\n",
    "for table in tables:\n",
    "    print(table[0])\n",
    "\n",
    "# Close the connection\n",
    "conn.close()"
   ]
  },
  {
   "cell_type": "code",
   "execution_count": 5,
   "id": "e62d788c",
   "metadata": {
    "execution": {
     "iopub.execute_input": "2024-08-02T05:54:14.599463Z",
     "iopub.status.busy": "2024-08-02T05:54:14.599080Z",
     "iopub.status.idle": "2024-08-02T05:54:14.606710Z",
     "shell.execute_reply": "2024-08-02T05:54:14.605622Z"
    },
    "papermill": {
     "duration": 0.014197,
     "end_time": "2024-08-02T05:54:14.608784",
     "exception": false,
     "start_time": "2024-08-02T05:54:14.594587",
     "status": "completed"
    },
    "tags": []
   },
   "outputs": [
    {
     "data": {
      "text/plain": [
       "'/kaggle/working/my_database.db'"
      ]
     },
     "execution_count": 5,
     "metadata": {},
     "output_type": "execute_result"
    }
   ],
   "source": [
    "import shutil\n",
    "\n",
    "# Move the SQLite file to the output directory\n",
    "shutil.move(db_path, '/kaggle/working/my_database.db')"
   ]
  },
  {
   "cell_type": "code",
   "execution_count": 6,
   "id": "62a34d61",
   "metadata": {
    "execution": {
     "iopub.execute_input": "2024-08-02T05:54:14.617111Z",
     "iopub.status.busy": "2024-08-02T05:54:14.616789Z",
     "iopub.status.idle": "2024-08-02T05:54:15.379770Z",
     "shell.execute_reply": "2024-08-02T05:54:15.378727Z"
    },
    "papermill": {
     "duration": 0.769829,
     "end_time": "2024-08-02T05:54:15.382139",
     "exception": false,
     "start_time": "2024-08-02T05:54:14.612310",
     "status": "completed"
    },
    "tags": []
   },
   "outputs": [],
   "source": [
    "%load_ext sql"
   ]
  },
  {
   "cell_type": "code",
   "execution_count": 7,
   "id": "6d0bba27",
   "metadata": {
    "execution": {
     "iopub.execute_input": "2024-08-02T05:54:15.391099Z",
     "iopub.status.busy": "2024-08-02T05:54:15.390458Z",
     "iopub.status.idle": "2024-08-02T05:54:15.431054Z",
     "shell.execute_reply": "2024-08-02T05:54:15.430073Z"
    },
    "papermill": {
     "duration": 0.047754,
     "end_time": "2024-08-02T05:54:15.433511",
     "exception": false,
     "start_time": "2024-08-02T05:54:15.385757",
     "status": "completed"
    },
    "tags": []
   },
   "outputs": [],
   "source": [
    "# Set the connection to the SQLite database\n",
    "%sql sqlite:////kaggle/working/my_database.db"
   ]
  },
  {
   "cell_type": "code",
   "execution_count": 8,
   "id": "cf18d968",
   "metadata": {
    "execution": {
     "iopub.execute_input": "2024-08-02T05:54:15.442136Z",
     "iopub.status.busy": "2024-08-02T05:54:15.441771Z",
     "iopub.status.idle": "2024-08-02T05:54:15.459196Z",
     "shell.execute_reply": "2024-08-02T05:54:15.458124Z"
    },
    "papermill": {
     "duration": 0.024134,
     "end_time": "2024-08-02T05:54:15.461295",
     "exception": false,
     "start_time": "2024-08-02T05:54:15.437161",
     "status": "completed"
    },
    "tags": []
   },
   "outputs": [
    {
     "name": "stdout",
     "output_type": "stream",
     "text": [
      " * sqlite:////kaggle/working/my_database.db\n",
      "Done.\n"
     ]
    },
    {
     "data": {
      "text/html": [
       "<table>\n",
       "    <thead>\n",
       "        <tr>\n",
       "            <th>name</th>\n",
       "        </tr>\n",
       "    </thead>\n",
       "    <tbody>\n",
       "        <tr>\n",
       "            <td>genre</td>\n",
       "        </tr>\n",
       "        <tr>\n",
       "            <td>invoice</td>\n",
       "        </tr>\n",
       "        <tr>\n",
       "            <td>track</td>\n",
       "        </tr>\n",
       "        <tr>\n",
       "            <td>artist</td>\n",
       "        </tr>\n",
       "        <tr>\n",
       "            <td>playlist_track</td>\n",
       "        </tr>\n",
       "        <tr>\n",
       "            <td>album2</td>\n",
       "        </tr>\n",
       "        <tr>\n",
       "            <td>invoice_line</td>\n",
       "        </tr>\n",
       "        <tr>\n",
       "            <td>customer</td>\n",
       "        </tr>\n",
       "        <tr>\n",
       "            <td>playlist</td>\n",
       "        </tr>\n",
       "        <tr>\n",
       "            <td>employee</td>\n",
       "        </tr>\n",
       "        <tr>\n",
       "            <td>album</td>\n",
       "        </tr>\n",
       "        <tr>\n",
       "            <td>media_type</td>\n",
       "        </tr>\n",
       "    </tbody>\n",
       "</table>"
      ],
      "text/plain": [
       "[('genre',),\n",
       " ('invoice',),\n",
       " ('track',),\n",
       " ('artist',),\n",
       " ('playlist_track',),\n",
       " ('album2',),\n",
       " ('invoice_line',),\n",
       " ('customer',),\n",
       " ('playlist',),\n",
       " ('employee',),\n",
       " ('album',),\n",
       " ('media_type',)]"
      ]
     },
     "execution_count": 8,
     "metadata": {},
     "output_type": "execute_result"
    }
   ],
   "source": [
    "%%sql\n",
    "SELECT name FROM sqlite_master WHERE type='table';\n"
   ]
  },
  {
   "cell_type": "markdown",
   "id": "7e090744",
   "metadata": {
    "papermill": {
     "duration": 0.003426,
     "end_time": "2024-08-02T05:54:15.468424",
     "exception": false,
     "start_time": "2024-08-02T05:54:15.464998",
     "status": "completed"
    },
    "tags": []
   },
   "source": [
    "## 1. Who is the senior most employee based on job title"
   ]
  },
  {
   "cell_type": "code",
   "execution_count": 9,
   "id": "bd77d147",
   "metadata": {
    "execution": {
     "iopub.execute_input": "2024-08-02T05:54:15.477199Z",
     "iopub.status.busy": "2024-08-02T05:54:15.476857Z",
     "iopub.status.idle": "2024-08-02T05:54:15.485630Z",
     "shell.execute_reply": "2024-08-02T05:54:15.484574Z"
    },
    "papermill": {
     "duration": 0.015605,
     "end_time": "2024-08-02T05:54:15.487752",
     "exception": false,
     "start_time": "2024-08-02T05:54:15.472147",
     "status": "completed"
    },
    "tags": []
   },
   "outputs": [
    {
     "name": "stdout",
     "output_type": "stream",
     "text": [
      " * sqlite:////kaggle/working/my_database.db\n",
      "Done.\n"
     ]
    },
    {
     "data": {
      "text/html": [
       "<table>\n",
       "    <thead>\n",
       "        <tr>\n",
       "            <th>employee_id</th>\n",
       "            <th>last_name</th>\n",
       "            <th>first_name</th>\n",
       "            <th>title</th>\n",
       "            <th>reports_to</th>\n",
       "            <th>levels</th>\n",
       "            <th>birthdate</th>\n",
       "            <th>hire_date</th>\n",
       "            <th>address</th>\n",
       "            <th>city</th>\n",
       "            <th>state</th>\n",
       "            <th>country</th>\n",
       "            <th>postal_code</th>\n",
       "            <th>phone</th>\n",
       "            <th>fax</th>\n",
       "            <th>email</th>\n",
       "        </tr>\n",
       "    </thead>\n",
       "    <tbody>\n",
       "        <tr>\n",
       "            <td>9</td>\n",
       "            <td>Madan</td>\n",
       "            <td>Mohan</td>\n",
       "            <td>Senior General Manager</td>\n",
       "            <td>None</td>\n",
       "            <td>L7</td>\n",
       "            <td>26-01-1961 00:00</td>\n",
       "            <td>14-01-2016 00:00</td>\n",
       "            <td>1008 Vrinda Ave MT</td>\n",
       "            <td>Edmonton</td>\n",
       "            <td>AB</td>\n",
       "            <td>Canada</td>\n",
       "            <td>T5K 2N1</td>\n",
       "            <td>+1 (780) 428-9482</td>\n",
       "            <td>+1 (780) 428-3457</td>\n",
       "            <td>madan.mohan@chinookcorp.com</td>\n",
       "        </tr>\n",
       "    </tbody>\n",
       "</table>"
      ],
      "text/plain": [
       "[(9, 'Madan', 'Mohan', 'Senior General Manager', None, 'L7', '26-01-1961 00:00', '14-01-2016 00:00', '1008 Vrinda Ave MT', 'Edmonton', 'AB', 'Canada', 'T5K 2N1', '+1 (780) 428-9482', '+1 (780) 428-3457', 'madan.mohan@chinookcorp.com')]"
      ]
     },
     "execution_count": 9,
     "metadata": {},
     "output_type": "execute_result"
    }
   ],
   "source": [
    "%%sql\n",
    "SELECT * FROM employee\n",
    "ORDER BY levels DESC\n",
    "LIMIT 1;"
   ]
  },
  {
   "cell_type": "code",
   "execution_count": null,
   "id": "939f6ce0",
   "metadata": {
    "papermill": {
     "duration": 0.003671,
     "end_time": "2024-08-02T05:54:15.495399",
     "exception": false,
     "start_time": "2024-08-02T05:54:15.491728",
     "status": "completed"
    },
    "tags": []
   },
   "outputs": [],
   "source": []
  }
 ],
 "metadata": {
  "kaggle": {
   "accelerator": "none",
   "dataSources": [
    {
     "datasetId": 5482720,
     "sourceId": 9086659,
     "sourceType": "datasetVersion"
    },
    {
     "datasetId": 5482749,
     "sourceId": 9086692,
     "sourceType": "datasetVersion"
    }
   ],
   "dockerImageVersionId": 30746,
   "isGpuEnabled": false,
   "isInternetEnabled": true,
   "language": "python",
   "sourceType": "notebook"
  },
  "kernelspec": {
   "display_name": "Python 3",
   "language": "python",
   "name": "python3"
  },
  "language_info": {
   "codemirror_mode": {
    "name": "ipython",
    "version": 3
   },
   "file_extension": ".py",
   "mimetype": "text/x-python",
   "name": "python",
   "nbconvert_exporter": "python",
   "pygments_lexer": "ipython3",
   "version": "3.10.13"
  },
  "papermill": {
   "default_parameters": {},
   "duration": 5.350996,
   "end_time": "2024-08-02T05:54:16.018720",
   "environment_variables": {},
   "exception": null,
   "input_path": "__notebook__.ipynb",
   "output_path": "__notebook__.ipynb",
   "parameters": {},
   "start_time": "2024-08-02T05:54:10.667724",
   "version": "2.5.0"
  }
 },
 "nbformat": 4,
 "nbformat_minor": 5
}
