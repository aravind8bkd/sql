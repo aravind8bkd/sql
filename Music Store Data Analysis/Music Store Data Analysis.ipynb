{
 "cells": [
  {
   "cell_type": "code",
   "execution_count": 1,
   "id": "ea2447dc",
   "metadata": {
    "execution": {
     "iopub.execute_input": "2024-08-05T09:53:19.380412Z",
     "iopub.status.busy": "2024-08-05T09:53:19.379374Z",
     "iopub.status.idle": "2024-08-05T09:53:20.247785Z",
     "shell.execute_reply": "2024-08-05T09:53:20.246769Z"
    },
    "papermill": {
     "duration": 0.878372,
     "end_time": "2024-08-05T09:53:20.250340",
     "exception": false,
     "start_time": "2024-08-05T09:53:19.371968",
     "status": "completed"
    },
    "tags": []
   },
   "outputs": [],
   "source": [
    "import pandas as pd\n",
    "import sqlite3\n",
    "import os\n"
   ]
  },
  {
   "cell_type": "code",
   "execution_count": 2,
   "id": "761fa7d0",
   "metadata": {
    "execution": {
     "iopub.execute_input": "2024-08-05T09:53:20.262407Z",
     "iopub.status.busy": "2024-08-05T09:53:20.261937Z",
     "iopub.status.idle": "2024-08-05T09:53:20.266821Z",
     "shell.execute_reply": "2024-08-05T09:53:20.265844Z"
    },
    "papermill": {
     "duration": 0.013103,
     "end_time": "2024-08-05T09:53:20.268849",
     "exception": false,
     "start_time": "2024-08-05T09:53:20.255746",
     "status": "completed"
    },
    "tags": []
   },
   "outputs": [],
   "source": [
    "# Define the path for your SQLite database file\n",
    "db_path = '/kaggle/working/music_database.db'\n",
    "\n",
    "# Connect to the SQLite database (it will create the file if it doesn't exist)\n",
    "conn = sqlite3.connect(db_path)\n"
   ]
  },
  {
   "cell_type": "code",
   "execution_count": 3,
   "id": "a693df73",
   "metadata": {
    "execution": {
     "iopub.execute_input": "2024-08-05T09:53:20.280490Z",
     "iopub.status.busy": "2024-08-05T09:53:20.280123Z",
     "iopub.status.idle": "2024-08-05T09:53:20.721187Z",
     "shell.execute_reply": "2024-08-05T09:53:20.720247Z"
    },
    "papermill": {
     "duration": 0.44995,
     "end_time": "2024-08-05T09:53:20.723940",
     "exception": false,
     "start_time": "2024-08-05T09:53:20.273990",
     "status": "completed"
    },
    "tags": []
   },
   "outputs": [],
   "source": [
    "# Path to the folder containing your CSV files\n",
    "csv_folder_path = '/kaggle/input/music-store-data-csvs/'\n",
    "\n",
    "# Loop through all CSV files in the folder\n",
    "for csv_file in os.listdir(csv_folder_path):\n",
    "    if csv_file.endswith('.csv'):\n",
    "        # Read the CSV file into a DataFrame\n",
    "        df = pd.read_csv(os.path.join(csv_folder_path, csv_file))\n",
    "        \n",
    "        # Use the filename (without extension) as the table name\n",
    "        table_name = os.path.splitext(csv_file)[0]\n",
    "        \n",
    "        # Write the DataFrame to the SQLite database\n",
    "        df.to_sql(table_name, conn, if_exists='replace', index=False)\n",
    "\n",
    "# Close the connection to the database\n",
    "conn.close()\n"
   ]
  },
  {
   "cell_type": "code",
   "execution_count": 4,
   "id": "e23e6a7c",
   "metadata": {
    "execution": {
     "iopub.execute_input": "2024-08-05T09:53:20.735895Z",
     "iopub.status.busy": "2024-08-05T09:53:20.735529Z",
     "iopub.status.idle": "2024-08-05T09:53:20.742980Z",
     "shell.execute_reply": "2024-08-05T09:53:20.741833Z"
    },
    "papermill": {
     "duration": 0.015989,
     "end_time": "2024-08-05T09:53:20.745164",
     "exception": false,
     "start_time": "2024-08-05T09:53:20.729175",
     "status": "completed"
    },
    "tags": []
   },
   "outputs": [
    {
     "name": "stdout",
     "output_type": "stream",
     "text": [
      "Tables in SQLite database:\n",
      "genre\n",
      "invoice\n",
      "track\n",
      "artist\n",
      "playlist_track\n",
      "album2\n",
      "invoice_line\n",
      "customer\n",
      "playlist\n",
      "employee\n",
      "album\n",
      "media_type\n"
     ]
    }
   ],
   "source": [
    "# Reconnect to the database\n",
    "conn = sqlite3.connect(db_path)\n",
    "\n",
    "# Query to get the list of tables\n",
    "tables = conn.execute(\"SELECT name FROM sqlite_master WHERE type='table';\").fetchall()\n",
    "\n",
    "# Print the list of tables\n",
    "print(\"Tables in SQLite database:\")\n",
    "for table in tables:\n",
    "    print(table[0])\n",
    "\n",
    "# Close the connection\n",
    "conn.close()"
   ]
  },
  {
   "cell_type": "code",
   "execution_count": 5,
   "id": "bd97bbf7",
   "metadata": {
    "execution": {
     "iopub.execute_input": "2024-08-05T09:53:20.757586Z",
     "iopub.status.busy": "2024-08-05T09:53:20.757138Z",
     "iopub.status.idle": "2024-08-05T09:53:20.765238Z",
     "shell.execute_reply": "2024-08-05T09:53:20.764231Z"
    },
    "papermill": {
     "duration": 0.017086,
     "end_time": "2024-08-05T09:53:20.767506",
     "exception": false,
     "start_time": "2024-08-05T09:53:20.750420",
     "status": "completed"
    },
    "tags": []
   },
   "outputs": [
    {
     "data": {
      "text/plain": [
       "'/kaggle/working/my_database.db'"
      ]
     },
     "execution_count": 5,
     "metadata": {},
     "output_type": "execute_result"
    }
   ],
   "source": [
    "import shutil\n",
    "\n",
    "# Move the SQLite file to the output directory\n",
    "shutil.move(db_path, '/kaggle/working/my_database.db')"
   ]
  },
  {
   "cell_type": "code",
   "execution_count": 6,
   "id": "d942c9b8",
   "metadata": {
    "execution": {
     "iopub.execute_input": "2024-08-05T09:53:20.779861Z",
     "iopub.status.busy": "2024-08-05T09:53:20.779497Z",
     "iopub.status.idle": "2024-08-05T09:53:21.547663Z",
     "shell.execute_reply": "2024-08-05T09:53:21.546722Z"
    },
    "papermill": {
     "duration": 0.77722,
     "end_time": "2024-08-05T09:53:21.550206",
     "exception": false,
     "start_time": "2024-08-05T09:53:20.772986",
     "status": "completed"
    },
    "tags": []
   },
   "outputs": [],
   "source": [
    "%load_ext sql"
   ]
  },
  {
   "cell_type": "code",
   "execution_count": 7,
   "id": "4b6ecbf5",
   "metadata": {
    "execution": {
     "iopub.execute_input": "2024-08-05T09:53:21.562606Z",
     "iopub.status.busy": "2024-08-05T09:53:21.562219Z",
     "iopub.status.idle": "2024-08-05T09:53:21.604134Z",
     "shell.execute_reply": "2024-08-05T09:53:21.603174Z"
    },
    "papermill": {
     "duration": 0.051221,
     "end_time": "2024-08-05T09:53:21.606818",
     "exception": false,
     "start_time": "2024-08-05T09:53:21.555597",
     "status": "completed"
    },
    "tags": []
   },
   "outputs": [],
   "source": [
    "# Set the connection to the SQLite database\n",
    "%sql sqlite:////kaggle/working/my_database.db"
   ]
  },
  {
   "cell_type": "code",
   "execution_count": 8,
   "id": "d84475a1",
   "metadata": {
    "execution": {
     "iopub.execute_input": "2024-08-05T09:53:21.619108Z",
     "iopub.status.busy": "2024-08-05T09:53:21.618740Z",
     "iopub.status.idle": "2024-08-05T09:53:21.635992Z",
     "shell.execute_reply": "2024-08-05T09:53:21.634863Z"
    },
    "papermill": {
     "duration": 0.026,
     "end_time": "2024-08-05T09:53:21.638193",
     "exception": false,
     "start_time": "2024-08-05T09:53:21.612193",
     "status": "completed"
    },
    "tags": []
   },
   "outputs": [
    {
     "name": "stdout",
     "output_type": "stream",
     "text": [
      " * sqlite:////kaggle/working/my_database.db\n",
      "Done.\n"
     ]
    },
    {
     "data": {
      "text/html": [
       "<table>\n",
       "    <thead>\n",
       "        <tr>\n",
       "            <th>name</th>\n",
       "        </tr>\n",
       "    </thead>\n",
       "    <tbody>\n",
       "        <tr>\n",
       "            <td>genre</td>\n",
       "        </tr>\n",
       "        <tr>\n",
       "            <td>invoice</td>\n",
       "        </tr>\n",
       "        <tr>\n",
       "            <td>track</td>\n",
       "        </tr>\n",
       "        <tr>\n",
       "            <td>artist</td>\n",
       "        </tr>\n",
       "        <tr>\n",
       "            <td>playlist_track</td>\n",
       "        </tr>\n",
       "        <tr>\n",
       "            <td>album2</td>\n",
       "        </tr>\n",
       "        <tr>\n",
       "            <td>invoice_line</td>\n",
       "        </tr>\n",
       "        <tr>\n",
       "            <td>customer</td>\n",
       "        </tr>\n",
       "        <tr>\n",
       "            <td>playlist</td>\n",
       "        </tr>\n",
       "        <tr>\n",
       "            <td>employee</td>\n",
       "        </tr>\n",
       "        <tr>\n",
       "            <td>album</td>\n",
       "        </tr>\n",
       "        <tr>\n",
       "            <td>media_type</td>\n",
       "        </tr>\n",
       "    </tbody>\n",
       "</table>"
      ],
      "text/plain": [
       "[('genre',),\n",
       " ('invoice',),\n",
       " ('track',),\n",
       " ('artist',),\n",
       " ('playlist_track',),\n",
       " ('album2',),\n",
       " ('invoice_line',),\n",
       " ('customer',),\n",
       " ('playlist',),\n",
       " ('employee',),\n",
       " ('album',),\n",
       " ('media_type',)]"
      ]
     },
     "execution_count": 8,
     "metadata": {},
     "output_type": "execute_result"
    }
   ],
   "source": [
    "%%sql\n",
    "SELECT name FROM sqlite_master WHERE type='table';\n"
   ]
  },
  {
   "cell_type": "code",
   "execution_count": 9,
   "id": "659cdb6b",
   "metadata": {
    "execution": {
     "iopub.execute_input": "2024-08-05T09:53:21.650898Z",
     "iopub.status.busy": "2024-08-05T09:53:21.650542Z",
     "iopub.status.idle": "2024-08-05T09:53:21.675833Z",
     "shell.execute_reply": "2024-08-05T09:53:21.674748Z"
    },
    "papermill": {
     "duration": 0.034761,
     "end_time": "2024-08-05T09:53:21.678561",
     "exception": false,
     "start_time": "2024-08-05T09:53:21.643800",
     "status": "completed"
    },
    "tags": []
   },
   "outputs": [
    {
     "data": {
      "image/png": "[encoded data removed]",
      "text/plain": [
       "<IPython.core.display.Image object>"
      ]
     },
     "metadata": {},
     "output_type": "display_data"
    }
   ],
   "source": [
    "from IPython.display import Image, display\n",
    "\n",
    "# Display an image\n",
    "display(Image(filename='/kaggle/input/schema/MusicDatabaseSchema.png'))\n"
   ]
  },
  {
   "cell_type": "markdown",
   "id": "2843cc6a",
   "metadata": {
    "papermill": {
     "duration": 0.006236,
     "end_time": "2024-08-05T09:53:21.691586",
     "exception": false,
     "start_time": "2024-08-05T09:53:21.685350",
     "status": "completed"
    },
    "tags": []
   },
   "source": [
    "Q1. Who is the senior most employee based on job title"
   ]
  },
  {
   "cell_type": "code",
   "execution_count": 10,
   "id": "5f82f935",
   "metadata": {
    "execution": {
     "iopub.execute_input": "2024-08-05T09:53:21.706572Z",
     "iopub.status.busy": "2024-08-05T09:53:21.706162Z",
     "iopub.status.idle": "2024-08-05T09:53:21.715840Z",
     "shell.execute_reply": "2024-08-05T09:53:21.714821Z"
    },
    "papermill": {
     "duration": 0.019724,
     "end_time": "2024-08-05T09:53:21.717848",
     "exception": false,
     "start_time": "2024-08-05T09:53:21.698124",
     "status": "completed"
    },
    "tags": []
   },
   "outputs": [
    {
     "name": "stdout",
     "output_type": "stream",
     "text": [
      " * sqlite:////kaggle/working/my_database.db\n",
      "Done.\n"
     ]
    },
    {
     "data": {
      "text/html": [
       "<table>\n",
       "    <thead>\n",
       "        <tr>\n",
       "            <th>employee_id</th>\n",
       "            <th>last_name</th>\n",
       "            <th>first_name</th>\n",
       "            <th>title</th>\n",
       "            <th>reports_to</th>\n",
       "            <th>levels</th>\n",
       "            <th>birthdate</th>\n",
       "            <th>hire_date</th>\n",
       "            <th>address</th>\n",
       "            <th>city</th>\n",
       "            <th>state</th>\n",
       "            <th>country</th>\n",
       "            <th>postal_code</th>\n",
       "            <th>phone</th>\n",
       "            <th>fax</th>\n",
       "            <th>email</th>\n",
       "        </tr>\n",
       "    </thead>\n",
       "    <tbody>\n",
       "        <tr>\n",
       "            <td>9</td>\n",
       "            <td>Madan</td>\n",
       "            <td>Mohan</td>\n",
       "            <td>Senior General Manager</td>\n",
       "            <td>None</td>\n",
       "            <td>L7</td>\n",
       "            <td>26-01-1961 00:00</td>\n",
       "            <td>14-01-2016 00:00</td>\n",
       "            <td>1008 Vrinda Ave MT</td>\n",
       "            <td>Edmonton</td>\n",
       "            <td>AB</td>\n",
       "            <td>Canada</td>\n",
       "            <td>T5K 2N1</td>\n",
       "            <td>+1 (780) 428-9482</td>\n",
       "            <td>+1 (780) 428-3457</td>\n",
       "            <td>madan.mohan@chinookcorp.com</td>\n",
       "        </tr>\n",
       "    </tbody>\n",
       "</table>"
      ],
      "text/plain": [
       "[(9, 'Madan', 'Mohan', 'Senior General Manager', None, 'L7', '26-01-1961 00:00', '14-01-2016 00:00', '1008 Vrinda Ave MT', 'Edmonton', 'AB', 'Canada', 'T5K 2N1', '+1 (780) 428-9482', '+1 (780) 428-3457', 'madan.mohan@chinookcorp.com')]"
      ]
     },
     "execution_count": 10,
     "metadata": {},
     "output_type": "execute_result"
    }
   ],
   "source": [
    "%%sql\n",
    "SELECT * FROM employee\n",
    "ORDER BY levels DESC\n",
    "LIMIT 1;"
   ]
  },
  {
   "cell_type": "markdown",
   "id": "3ad8e469",
   "metadata": {
    "papermill": {
     "duration": 0.006358,
     "end_time": "2024-08-05T09:53:21.730770",
     "exception": false,
     "start_time": "2024-08-05T09:53:21.724412",
     "status": "completed"
    },
    "tags": []
   },
   "source": [
    "Q2. Which countries have the most Invoices ?"
   ]
  },
  {
   "cell_type": "code",
   "execution_count": 11,
   "id": "f967828b",
   "metadata": {
    "execution": {
     "iopub.execute_input": "2024-08-05T09:53:21.745874Z",
     "iopub.status.busy": "2024-08-05T09:53:21.745507Z",
     "iopub.status.idle": "2024-08-05T09:53:21.754829Z",
     "shell.execute_reply": "2024-08-05T09:53:21.753880Z"
    },
    "papermill": {
     "duration": 0.01941,
     "end_time": "2024-08-05T09:53:21.756962",
     "exception": false,
     "start_time": "2024-08-05T09:53:21.737552",
     "status": "completed"
    },
    "tags": []
   },
   "outputs": [
    {
     "name": "stdout",
     "output_type": "stream",
     "text": [
      " * sqlite:////kaggle/working/my_database.db\n",
      "Done.\n"
     ]
    },
    {
     "data": {
      "text/html": [
       "<table>\n",
       "    <thead>\n",
       "        <tr>\n",
       "            <th>no_of_inv</th>\n",
       "            <th>billing_country</th>\n",
       "        </tr>\n",
       "    </thead>\n",
       "    <tbody>\n",
       "        <tr>\n",
       "            <td>131</td>\n",
       "            <td>USA</td>\n",
       "        </tr>\n",
       "        <tr>\n",
       "            <td>76</td>\n",
       "            <td>Canada</td>\n",
       "        </tr>\n",
       "        <tr>\n",
       "            <td>61</td>\n",
       "            <td>Brazil</td>\n",
       "        </tr>\n",
       "        <tr>\n",
       "            <td>50</td>\n",
       "            <td>France</td>\n",
       "        </tr>\n",
       "        <tr>\n",
       "            <td>41</td>\n",
       "            <td>Germany</td>\n",
       "        </tr>\n",
       "    </tbody>\n",
       "</table>"
      ],
      "text/plain": [
       "[(131, 'USA'), (76, 'Canada'), (61, 'Brazil'), (50, 'France'), (41, 'Germany')]"
      ]
     },
     "execution_count": 11,
     "metadata": {},
     "output_type": "execute_result"
    }
   ],
   "source": [
    "%%sql\n",
    "SELECT COUNT(*) AS no_of_inv, billing_country\n",
    "FROM invoice\n",
    "GROUP BY billing_country\n",
    "ORDER BY no_of_inv DESC\n",
    "LIMIT 5;"
   ]
  },
  {
   "cell_type": "markdown",
   "id": "62a671e1",
   "metadata": {
    "papermill": {
     "duration": 0.007393,
     "end_time": "2024-08-05T09:53:21.771138",
     "exception": false,
     "start_time": "2024-08-05T09:53:21.763745",
     "status": "completed"
    },
    "tags": []
   },
   "source": [
    "Q3. What are the top 3 values of total invoice"
   ]
  },
  {
   "cell_type": "code",
   "execution_count": 12,
   "id": "d8336356",
   "metadata": {
    "execution": {
     "iopub.execute_input": "2024-08-05T09:53:21.785997Z",
     "iopub.status.busy": "2024-08-05T09:53:21.785646Z",
     "iopub.status.idle": "2024-08-05T09:53:21.794830Z",
     "shell.execute_reply": "2024-08-05T09:53:21.793801Z"
    },
    "papermill": {
     "duration": 0.01926,
     "end_time": "2024-08-05T09:53:21.797115",
     "exception": false,
     "start_time": "2024-08-05T09:53:21.777855",
     "status": "completed"
    },
    "tags": []
   },
   "outputs": [
    {
     "name": "stdout",
     "output_type": "stream",
     "text": [
      " * sqlite:////kaggle/working/my_database.db\n",
      "Done.\n"
     ]
    },
    {
     "data": {
      "text/html": [
       "<table>\n",
       "    <thead>\n",
       "        <tr>\n",
       "            <th>invoice_id</th>\n",
       "            <th>customer_id</th>\n",
       "            <th>invoice_date</th>\n",
       "            <th>billing_address</th>\n",
       "            <th>billing_city</th>\n",
       "            <th>billing_state</th>\n",
       "            <th>billing_country</th>\n",
       "            <th>billing_postal_code</th>\n",
       "            <th>total</th>\n",
       "        </tr>\n",
       "    </thead>\n",
       "    <tbody>\n",
       "        <tr>\n",
       "            <td>183</td>\n",
       "            <td>42</td>\n",
       "            <td>2018-02-09 00:00:00</td>\n",
       "            <td>9, Place Louis Barthou</td>\n",
       "            <td>Bordeaux</td>\n",
       "            <td>None</td>\n",
       "            <td>France</td>\n",
       "            <td>33000</td>\n",
       "            <td>23.76</td>\n",
       "        </tr>\n",
       "        <tr>\n",
       "            <td>31</td>\n",
       "            <td>3</td>\n",
       "            <td>2017-02-21 00:00:00</td>\n",
       "            <td>1498 rue Bélanger</td>\n",
       "            <td>Montréal</td>\n",
       "            <td>QC</td>\n",
       "            <td>Canada</td>\n",
       "            <td>H2G 1A7</td>\n",
       "            <td>19.8</td>\n",
       "        </tr>\n",
       "        <tr>\n",
       "            <td>92</td>\n",
       "            <td>32</td>\n",
       "            <td>2017-07-02 00:00:00</td>\n",
       "            <td>696 Osborne Street</td>\n",
       "            <td>Winnipeg</td>\n",
       "            <td>MB</td>\n",
       "            <td>Canada</td>\n",
       "            <td>R3L 2B9</td>\n",
       "            <td>19.8</td>\n",
       "        </tr>\n",
       "    </tbody>\n",
       "</table>"
      ],
      "text/plain": [
       "[(183, 42, '2018-02-09 00:00:00', '9, Place Louis Barthou', 'Bordeaux', None, 'France', '33000', 23.76),\n",
       " (31, 3, '2017-02-21 00:00:00', '1498 rue Bélanger', 'Montréal', 'QC', 'Canada', 'H2G 1A7', 19.8),\n",
       " (92, 32, '2017-07-02 00:00:00', '696 Osborne Street', 'Winnipeg', 'MB', 'Canada', 'R3L 2B9', 19.8)]"
      ]
     },
     "execution_count": 12,
     "metadata": {},
     "output_type": "execute_result"
    }
   ],
   "source": [
    "%%sql\n",
    "SELECT * \n",
    "FROM invoice\n",
    "ORDER BY total DESC\n",
    "LIMIT 3;"
   ]
  },
  {
   "cell_type": "markdown",
   "id": "241c1bf7",
   "metadata": {
    "papermill": {
     "duration": 0.006747,
     "end_time": "2024-08-05T09:53:21.810826",
     "exception": false,
     "start_time": "2024-08-05T09:53:21.804079",
     "status": "completed"
    },
    "tags": []
   },
   "source": [
    "Q4. Which city has the best customers? We would like to throw a promotional Music Festival in  the city we made the most money. \n",
    " Write a query that returns one city that has the highest sum of invoice totals. \n",
    " Return both the city name & sum of all invoice totals"
   ]
  },
  {
   "cell_type": "code",
   "execution_count": 13,
   "id": "f347bc54",
   "metadata": {
    "execution": {
     "iopub.execute_input": "2024-08-05T09:53:21.826507Z",
     "iopub.status.busy": "2024-08-05T09:53:21.826098Z",
     "iopub.status.idle": "2024-08-05T09:53:21.834990Z",
     "shell.execute_reply": "2024-08-05T09:53:21.833860Z"
    },
    "papermill": {
     "duration": 0.019126,
     "end_time": "2024-08-05T09:53:21.837025",
     "exception": false,
     "start_time": "2024-08-05T09:53:21.817899",
     "status": "completed"
    },
    "tags": []
   },
   "outputs": [
    {
     "name": "stdout",
     "output_type": "stream",
     "text": [
      " * sqlite:////kaggle/working/my_database.db\n",
      "Done.\n"
     ]
    },
    {
     "data": {
      "text/html": [
       "<table>\n",
       "    <thead>\n",
       "        <tr>\n",
       "            <th>invoice_id</th>\n",
       "            <th>customer_id</th>\n",
       "            <th>invoice_date</th>\n",
       "            <th>billing_address</th>\n",
       "            <th>billing_city</th>\n",
       "            <th>billing_state</th>\n",
       "            <th>billing_country</th>\n",
       "            <th>billing_postal_code</th>\n",
       "            <th>total</th>\n",
       "            <th>sum_inv_total</th>\n",
       "        </tr>\n",
       "    </thead>\n",
       "    <tbody>\n",
       "        <tr>\n",
       "            <td>78</td>\n",
       "            <td>5</td>\n",
       "            <td>2017-05-29 00:00:00</td>\n",
       "            <td>Klanova 9/506</td>\n",
       "            <td>Prague</td>\n",
       "            <td>None</td>\n",
       "            <td>Czech Republic</td>\n",
       "            <td>14700</td>\n",
       "            <td>8.91</td>\n",
       "            <td>273.24000000000007</td>\n",
       "        </tr>\n",
       "        <tr>\n",
       "            <td>17</td>\n",
       "            <td>20</td>\n",
       "            <td>2017-01-28 00:00:00</td>\n",
       "            <td>541 Del Medio Avenue</td>\n",
       "            <td>Mountain View</td>\n",
       "            <td>CA</td>\n",
       "            <td>USA</td>\n",
       "            <td>94040-111</td>\n",
       "            <td>10.89</td>\n",
       "            <td>169.29</td>\n",
       "        </tr>\n",
       "        <tr>\n",
       "            <td>23</td>\n",
       "            <td>53</td>\n",
       "            <td>2017-02-09 00:00:00</td>\n",
       "            <td>113 Lupus St</td>\n",
       "            <td>London</td>\n",
       "            <td>None</td>\n",
       "            <td>United Kingdom</td>\n",
       "            <td>SW1V 3EN</td>\n",
       "            <td>9.9</td>\n",
       "            <td>166.32</td>\n",
       "        </tr>\n",
       "    </tbody>\n",
       "</table>"
      ],
      "text/plain": [
       "[(78, 5, '2017-05-29 00:00:00', 'Klanova 9/506', 'Prague', None, 'Czech Republic', '14700', 8.91, 273.24000000000007),\n",
       " (17, 20, '2017-01-28 00:00:00', '541 Del Medio Avenue', 'Mountain View', 'CA', 'USA', '94040-111', 10.89, 169.29),\n",
       " (23, 53, '2017-02-09 00:00:00', '113 Lupus St', 'London', None, 'United Kingdom', 'SW1V 3EN', 9.9, 166.32)]"
      ]
     },
     "execution_count": 13,
     "metadata": {},
     "output_type": "execute_result"
    }
   ],
   "source": [
    "%%sql\n",
    "SELECT *, SUM(total) AS sum_inv_total \n",
    "FROM invoice\n",
    "GROUP BY billing_city\n",
    "ORDER BY sum_inv_total DESC\n",
    "LIMIT 3;"
   ]
  },
  {
   "cell_type": "markdown",
   "id": "e65cbfd2",
   "metadata": {
    "papermill": {
     "duration": 0.007064,
     "end_time": "2024-08-05T09:53:21.851264",
     "exception": false,
     "start_time": "2024-08-05T09:53:21.844200",
     "status": "completed"
    },
    "tags": []
   },
   "source": [
    "Q5. Who is the best customer? The customer who has spent the most money will be declared the best customer. \n",
    " Write a query that returns the person who has spent the most money"
   ]
  },
  {
   "cell_type": "code",
   "execution_count": 14,
   "id": "f5f40eaa",
   "metadata": {
    "execution": {
     "iopub.execute_input": "2024-08-05T09:53:21.867574Z",
     "iopub.status.busy": "2024-08-05T09:53:21.867177Z",
     "iopub.status.idle": "2024-08-05T09:53:21.877628Z",
     "shell.execute_reply": "2024-08-05T09:53:21.876628Z"
    },
    "papermill": {
     "duration": 0.021226,
     "end_time": "2024-08-05T09:53:21.879778",
     "exception": false,
     "start_time": "2024-08-05T09:53:21.858552",
     "status": "completed"
    },
    "tags": []
   },
   "outputs": [
    {
     "name": "stdout",
     "output_type": "stream",
     "text": [
      " * sqlite:////kaggle/working/my_database.db\n",
      "Done.\n"
     ]
    },
    {
     "data": {
      "text/html": [
       "<table>\n",
       "    <thead>\n",
       "        <tr>\n",
       "            <th>customer_id</th>\n",
       "            <th>first_name</th>\n",
       "            <th>last_name</th>\n",
       "            <th>money_spent</th>\n",
       "        </tr>\n",
       "    </thead>\n",
       "    <tbody>\n",
       "        <tr>\n",
       "            <td>5</td>\n",
       "            <td>František</td>\n",
       "            <td>Wichterlová</td>\n",
       "            <td>144.54000000000002</td>\n",
       "        </tr>\n",
       "    </tbody>\n",
       "</table>"
      ],
      "text/plain": [
       "[(5, 'František', 'Wichterlová', 144.54000000000002)]"
      ]
     },
     "execution_count": 14,
     "metadata": {},
     "output_type": "execute_result"
    }
   ],
   "source": [
    "%%sql\n",
    "SELECT c.customer_id, c.first_name, c.last_name, SUM(i.total) AS money_spent\n",
    "FROM customer c\n",
    "LEFT JOIN invoice i\n",
    "ON c.customer_id = i.customer_id\n",
    "GROUP BY i.customer_id\n",
    "ORDER BY money_spent DESC\n",
    "LIMIT 1;"
   ]
  },
  {
   "cell_type": "markdown",
   "id": "7643206d",
   "metadata": {
    "papermill": {
     "duration": 0.007285,
     "end_time": "2024-08-05T09:53:21.894831",
     "exception": false,
     "start_time": "2024-08-05T09:53:21.887546",
     "status": "completed"
    },
    "tags": []
   },
   "source": [
    "# moderate:"
   ]
  },
  {
   "cell_type": "markdown",
   "id": "67a3ab44",
   "metadata": {
    "papermill": {
     "duration": 0.00731,
     "end_time": "2024-08-05T09:53:21.909657",
     "exception": false,
     "start_time": "2024-08-05T09:53:21.902347",
     "status": "completed"
    },
    "tags": []
   },
   "source": [
    " Q1. Write query to return the email, first name, last name, & Genre of all Rock Music listeners. \n",
    " Return your list ordered alphabetically by email starting with A."
   ]
  },
  {
   "cell_type": "code",
   "execution_count": null,
   "id": "390e5a72",
   "metadata": {
    "papermill": {
     "duration": 0.007717,
     "end_time": "2024-08-05T09:53:21.925145",
     "exception": false,
     "start_time": "2024-08-05T09:53:21.917428",
     "status": "completed"
    },
    "tags": []
   },
   "outputs": [],
   "source": []
  }
 ],
 "metadata": {
  "kaggle": {
   "accelerator": "none",
   "dataSources": [
    {
     "datasetId": 5482720,
     "sourceId": 9086659,
     "sourceType": "datasetVersion"
    },
    {
     "datasetId": 5482749,
     "sourceId": 9086692,
     "sourceType": "datasetVersion"
    },
    {
     "datasetId": 5487727,
     "sourceId": 9093771,
     "sourceType": "datasetVersion"
    }
   ],
   "dockerImageVersionId": 30746,
   "isGpuEnabled": false,
   "isInternetEnabled": true,
   "language": "python",
   "sourceType": "notebook"
  },
  "kernelspec": {
   "display_name": "Python 3",
   "language": "python",
   "name": "python3"
  },
  "language_info": {
   "codemirror_mode": {
    "name": "ipython",
    "version": 3
   },
   "file_extension": ".py",
   "mimetype": "text/x-python",
   "name": "python",
   "nbconvert_exporter": "python",
   "pygments_lexer": "ipython3",
   "version": "3.10.13"
  },
  "papermill": {
   "default_parameters": {},
   "duration": 5.809557,
   "end_time": "2024-08-05T09:53:22.453049",
   "environment_variables": {},
   "exception": null,
   "input_path": "__notebook__.ipynb",
   "output_path": "__notebook__.ipynb",
   "parameters": {},
   "start_time": "2024-08-05T09:53:16.643492",
   "version": "2.5.0"
  }
 },
 "nbformat": 4,
 "nbformat_minor": 5
}
